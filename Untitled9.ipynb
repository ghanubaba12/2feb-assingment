{
 "cells": [
  {
   "cell_type": "code",
   "execution_count": null,
   "id": "95978f33-9b76-46a3-b3fb-b526983bc97c",
   "metadata": {},
   "outputs": [],
   "source": [
    "\"\"\"Q1. Explain with an example each when to use a for loop and a while loop.\"\"\""
   ]
  },
  {
   "cell_type": "code",
   "execution_count": 1,
   "id": "ad6a029f-e989-463e-96a7-c0c7740a774a",
   "metadata": {},
   "outputs": [],
   "source": [
    "a=[1,2,3,46,464,4]"
   ]
  },
  {
   "cell_type": "code",
   "execution_count": 2,
   "id": "3156b87e-a396-4148-a479-c45735f3feb4",
   "metadata": {},
   "outputs": [
    {
     "name": "stdout",
     "output_type": "stream",
     "text": [
      "1\n",
      "2\n",
      "3\n",
      "46\n",
      "464\n",
      "4\n"
     ]
    }
   ],
   "source": [
    "for i in a:\n",
    "    print(i)"
   ]
  },
  {
   "cell_type": "code",
   "execution_count": null,
   "id": "0c7f1232-c38b-406e-81f9-3c9252e46bff",
   "metadata": {},
   "outputs": [],
   "source": []
  }
 ],
 "metadata": {
  "kernelspec": {
   "display_name": "Python 3 (ipykernel)",
   "language": "python",
   "name": "python3"
  },
  "language_info": {
   "codemirror_mode": {
    "name": "ipython",
    "version": 3
   },
   "file_extension": ".py",
   "mimetype": "text/x-python",
   "name": "python",
   "nbconvert_exporter": "python",
   "pygments_lexer": "ipython3",
   "version": "3.10.8"
  }
 },
 "nbformat": 4,
 "nbformat_minor": 5
}
